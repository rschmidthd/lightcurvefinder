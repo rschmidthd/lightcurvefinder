{
 "cells": [
  {
   "cell_type": "markdown",
   "metadata": {},
   "source": [
    "lightcurvefinder() is a python implementation of the [Witt (1993)](https://ui.adsabs.harvard.edu/abs/1993ApJ...403..530W/abstract) method to calculate microlensing light curves\n",
    "\n",
    "Copyright 2020 Robert W. Schmidt rschmidthd at gmail.com\n",
    "\n",
    "The magnification curve estimation routine iso_magnification() is an extension of causticfinder-py which can be found at https://github.com/rschmidthd/causticfinder-py"
   ]
  },
  {
   "cell_type": "markdown",
   "metadata": {},
   "source": [
    "__Instructions__: you can run the notebook. It will produce a track image, a caustic pattern (with track overlaid) and a light curve (point source). You can change settings in the first cell."
   ]
  },
  {
   "cell_type": "markdown",
   "metadata": {},
   "source": [
    "###### This program is free software: you can redistribute it and/or modify it under the terms of the GNU General Public License as published by the Free Software Foundation, either version 3 of the License, or (at your option) any later version.\n",
    "\n",
    "###### This program is distributed in the hope that it will be useful, but WITHOUT ANY WARRANTY; without even the implied warranty of MERCHANTABILITY or FITNESS FOR A PARTICULAR PURPOSE.  See the GNU General Public License for more details.\n",
    "\n",
    "###### You should have received a copy of the GNU General Public License along with this program.  If not, see <http://www.gnu.org/licenses/>."
   ]
  },
  {
   "cell_type": "code",
   "execution_count": null,
   "metadata": {},
   "outputs": [],
   "source": [
    "import matplotlib.pyplot as plt\n",
    "import cmath as cm\n",
    "import numpy as np\n",
    "%matplotlib inline"
   ]
  },
  {
   "cell_type": "code",
   "execution_count": null,
   "metadata": {},
   "outputs": [],
   "source": [
    "# settings\n",
    "#\n",
    "#     Infrequently the code seems unable to exit loops. This can be fixed\n",
    "#     by reducing the step size in the source plane\n",
    "\n",
    "\n",
    "points_per_curve=200    # critical and caustic curve length = 2*nstars*points_per_curve\n",
    "points_per_track=20001  # number of points on source track\n",
    "track_length=2*10       # length of source track in Einstein radii\n",
    "track_offset=-0.4       # track offset (in x) from the origin\n",
    "track_angle=0.2         # track angle with respec to y-axis\n",
    "\n",
    "sigma_c = 0\n",
    "gamma = 0.0\n",
    "gamma = gamma / (1-sigma_c)   # reduced shear\n",
    "normalize = cm.sqrt(abs(1-sigma_c))\n",
    "\n",
    "nstars = 10\n",
    "stars_x,stars_y,masses = np.loadtxt('starfile10.txt',unpack=True)\n",
    "\n",
    "stars=np.zeros(nstars)+np.zeros(nstars)*1j\n",
    "for i in range(len(stars_x)):\n",
    "    stars[i]=stars_x[i]*normalize+stars_y[i]*normalize*1j\n",
    "\n",
    "# define source track\n",
    "zeta0=-0.5*track_length*np.cos(track_angle)*1j-0.5*track_length*np.sin(track_angle)\n",
    "zeta_track=np.linspace(zeta0+track_offset,-zeta0+track_offset,points_per_track)"
   ]
  },
  {
   "cell_type": "code",
   "execution_count": null,
   "metadata": {
    "jupyter": {
     "outputs_hidden": false
    }
   },
   "outputs": [],
   "source": [
    "# lens equation\n",
    "def beta(z):\n",
    "    return z + z.conjugate()*gamma + (masses/(stars-z).conjugate()).sum()\n",
    "# poly_fraction1() and poly_fraction2() are\n",
    "# auxiliary functions for the Newton-Raphson derivative\n",
    "def poly_fraction1(z,phi,detj):\n",
    "    sum1=(-2/(stars-z)).sum()\n",
    "    sum2=(2*masses/(stars-z)**3).sum()\n",
    "    sum3=(masses/(stars-z)**2).sum()     \n",
    "    return sum1 + sum2/(gamma-cm.exp(phi*1j)*cm.sqrt(1-detj)+sum3)  # using Witt eq. 16\n",
    "def poly_fraction2(z, phi, detj):\n",
    "    sum1=(masses/(stars-z)**2).sum()\n",
    "    sum2=(2*masses/(stars-z)**3).sum()    \n",
    "    return (sum1 + gamma-cm.exp(phi*1j)*cm.sqrt(1-detj))/sum2       # using Witt eq. 16\n",
    "def detj(z):\n",
    "    fac=gamma+(masses/(((stars-z).conjugate())**2)).sum()\n",
    "    return abs(1-fac*fac.conjugate())\n",
    "\n",
    "def iso_magnification(detj):\n",
    "\n",
    "    solns=np.zeros(2*nstars)+np.zeros(2*nstars)*1j\n",
    "    critical_points=np.zeros(2*nstars*points_per_curve)+np.zeros(2*nstars*points_per_curve)*1j\n",
    "    caustic_points=critical_points.copy()\n",
    " \n",
    "    zp=0.5+0j\n",
    "    \n",
    "    # determine initial roots for phi=0\n",
    "    for m in range(2*nstars):\n",
    "        \n",
    "        zp=zp*cm.exp(0.1j)  # allow Newton-Raphson some distance to converge\n",
    "        norm=abs(zp)\n",
    "    \n",
    "        while (norm>1e-6):\n",
    "            t=zp\n",
    "\n",
    "            sum=0\n",
    "            if (m>0):\n",
    "                sum=(1/(t-solns[:m])).sum()\n",
    "\n",
    "            zp = t - 1/(poly_fraction1(t,0,detj)-sum)\n",
    "\n",
    "            norm=abs(t-zp)\n",
    "        solns[m]=zp\n",
    "        #print(m,solns)\n",
    "        \n",
    "    # follow curves for phi: 0 -> 2 pi\n",
    "    for n in range(2*nstars):\n",
    "\n",
    "        zp=solns[n]\n",
    "        for m in range(points_per_curve):\n",
    "            t=0\n",
    "            phi=m*2*cm.pi/points_per_curve\n",
    "            norm=abs(zp)\n",
    "    \n",
    "            while (norm>1e-6):\n",
    "                t  = zp\n",
    "                zp = t-poly_fraction2(t,phi,detj)\n",
    "                norm = abs(t-zp)\n",
    "            \n",
    "            #z=beta(zp)\n",
    "            critical_points[n*points_per_curve+m]=zp\n",
    "            #caustic_points[n*points_per_curve+m]=z\n",
    "    \n",
    "    return critical_points"
   ]
  },
  {
   "cell_type": "code",
   "execution_count": null,
   "metadata": {
    "jupyter": {
     "outputs_hidden": false
    }
   },
   "outputs": [],
   "source": [
    "# functions relating to the image track\n",
    "\n",
    "def func(z,zeta):\n",
    "    return (z+gamma*z.conjugate()+(masses/(stars-z).conjugate()).sum())-zeta\n",
    "def dfunc(z):\n",
    "    return (gamma+(masses/((stars-z).conjugate())**2).sum())\n",
    "\n",
    "def follow_zeta_track(z,p,ct):\n",
    "    flag=False\n",
    "    dz_previous=10.0\n",
    "    dz=1.0\n",
    "    zp=z*cm.exp(0.1j)\n",
    "\n",
    "    #print ('start with',ct+p,zeta_track[ct+p])\n",
    "    \n",
    "    while (dz<3*dz_previous):                     # criterion to stop at critical curve\n",
    "        if (p==1) and (ct==len(zeta_track)-1):    # end of line\n",
    "            flag=True\n",
    "            break\n",
    "        if ((p==-1) and ct==1):                   # came back to start\n",
    "            flag=True\n",
    "            break\n",
    "\n",
    "        ct=ct+p                        # negative parity: go backwards\n",
    "        zeta=zeta_track[ct]\n",
    "        \n",
    "        tt=z\n",
    "        dz_previous=dz\n",
    "        norm=1.0\n",
    "        while (norm>1e-6) and (norm < 100):     # stop if convergence (at solution) or divergence (at critical curve)\n",
    "            t=z\n",
    "            f=func(t,zeta)\n",
    "            df=dfunc(t)\n",
    "            z=t-p*(f-df*f.conjugate())/detj(t)  # note f=zeta(z)-zeta_track[ct], cf Witt eq. 14\n",
    "            norm=abs(t-z)\n",
    "        dz=abs(z-tt)\n",
    "        if (dz<3*dz_previous):                  # criterion top stop at critical curve\n",
    "            add_image_to_track(z,ct)\n",
    "\n",
    "    ct=ct-p  # back to before the critical curve\n",
    "    \n",
    "    return flag,ct,ximg[-1]+yimg[-1]*1j\n",
    "\n",
    "def change_isomag_contour(z,p):\n",
    "    cr = iso_magnification(p*detj(z))\n",
    "    sep=np.zeros(len(cr))\n",
    "    zeta=beta(z)\n",
    "    for x in range(len(cr)):\n",
    "        sep[x]=abs(beta(cr[x])-zeta)\n",
    "    zp=cr[np.argsort(sep)][0]\n",
    "    return zp\n",
    "\n",
    "def find_initial_primary_position(z, zeta):    # Witt eq. 11\n",
    "    norm=1.0\n",
    "    while (norm>1e-6):\n",
    "        t=z\n",
    "        z = zeta - gamma*t.conjugate()-(masses/(stars-t).conjugate()).sum()\n",
    "        norm=abs(t-z)\n",
    "    return z\n",
    "\n",
    "def find_initial_secondary_position(zeta):    # Witt eq. 13\n",
    "    sols=np.zeros(nstars)+np.zeros(nstars)*1j\n",
    "    for x in range(nstars):\n",
    "        sum=gamma*stars[x]\n",
    "        for y in range(nstars):\n",
    "            if y!=x:\n",
    "                sum=sum+(masses[y]/(stars[y]-stars[x]))\n",
    "        sols[x]=stars[x]-masses[x]/(zeta.conjugate()-stars[x].conjugate()-sum)\n",
    "    return sols\n",
    "\n",
    "def add_image_to_track(z,ct):\n",
    "    ximg.append(z.real)\n",
    "    yimg.append(z.imag)\n",
    "    mag[ct]=mag[ct]+1/detj(z)"
   ]
  },
  {
   "cell_type": "code",
   "execution_count": null,
   "metadata": {},
   "outputs": [],
   "source": [
    "# lightcurvefinder main\n",
    "#\n",
    "# - The code first follows the primary track, which ends at either the track end or at a star.\n",
    "#     If the primary track encounters a critical curve, the code will cross the critical curve,\n",
    "#     and follow the track further (can happen several times).\n",
    "# - Then the code follows all secondary image tracks, which all start near a star.\n",
    "#     Secondary tracks are followed backwards to make sure that the primary track\n",
    "#     also gets completed if it happened to end at a star.\n",
    "# - Critical curves are determined if the image positions for consecutive source positions diverge\n",
    "#     (currently by a factor 3)\n",
    "#\n",
    "# this procedure is a modified version of the one described in Witt 1993, ApJ 403, 530\n",
    "\n",
    "def lightcurvefinder():\n",
    "    #initial position primary track\n",
    "    zeta=zeta_track[0]\n",
    "    zp=find_initial_primary_position(zeta*cm.exp(0.01j), zeta)\n",
    "\n",
    "    ct=0                           # ct is the source track index\n",
    "    add_image_to_track(zp,ct)\n",
    "\n",
    "    p=1\n",
    "    flag,ct,z=follow_zeta_track(zp,p,ct)\n",
    "\n",
    "    # if flag is False, the image track has hit a critical line\n",
    "    while (not flag):\n",
    "        # change isomag-line\n",
    "        p=p*-1\n",
    "        zp=change_isomag_contour(z,p)\n",
    "        #add_image_to_track(zp,ct)\n",
    "\n",
    "        # follow track\n",
    "        flag,ct,z=follow_zeta_track(zp,p,ct)\n",
    "    print ('primary done')\n",
    "\n",
    "    # initial positions secondary tracks\n",
    "    zeta=zeta_track[-1]\n",
    "    secondary_initial=find_initial_secondary_position(zeta)\n",
    "\n",
    "    for zp in secondary_initial:\n",
    "        print ('doing secondary')\n",
    "        p=-1                       # negative parity images near the star positions\n",
    "        ct=len(zeta_track)-1\n",
    "        flag,ct,z=follow_zeta_track(zp,p,ct)\n",
    "        while (not flag):\n",
    "            p=p*-1\n",
    "            zp=change_isomag_contour(z,p)\n",
    "            #add_image_to_track(zp,ct)\n",
    "            \n",
    "            flag,ct,z=follow_zeta_track(zp,p,ct)\n",
    "\n",
    "    print ('done')\n",
    "    return flag   "
   ]
  },
  {
   "cell_type": "code",
   "execution_count": null,
   "metadata": {
    "jupyter": {
     "outputs_hidden": false
    }
   },
   "outputs": [],
   "source": [
    "# running lightcurvefinder()\n",
    "\n",
    "mag=np.zeros(points_per_track)\n",
    "ximg=[]\n",
    "yimg=[]\n",
    "state = lightcurvefinder()"
   ]
  },
  {
   "cell_type": "code",
   "execution_count": null,
   "metadata": {
    "jupyter": {
     "outputs_hidden": false
    }
   },
   "outputs": [],
   "source": [
    "# plotting the image track (blue), the stars (orange) and critical curves (green)\n",
    "\n",
    "plt.plot(ximg,yimg,'.',markersize=0.9,color='blue')\n",
    "critical = iso_magnification(0.0) \n",
    "for i in range(2*len(stars)):\n",
    "    plt.plot(np.real(critical[i*points_per_curve:(i+1)*points_per_curve]),\n",
    "             np.imag(critical[i*points_per_curve:(i+1)*points_per_curve]),color='green')\n",
    "\n",
    "plt.scatter(stars_x,stars_y,color='orange')\n",
    "plt.ylim(-6,6)\n",
    "plt.xlim(-6,6)"
   ]
  },
  {
   "cell_type": "code",
   "execution_count": null,
   "metadata": {
    "jupyter": {
     "outputs_hidden": false
    }
   },
   "outputs": [],
   "source": [
    "# plotting the caustics and the track\n",
    "\n",
    "critical = iso_magnification(0.0) \n",
    "caustic = []\n",
    "for z in critical:\n",
    "    caustic.append(beta(z))\n",
    "\n",
    "plt.axes().set_aspect('equal')\n",
    "\n",
    "for i in range(2*len(stars)):\n",
    "    plt.plot(np.real(caustic[i*points_per_curve:(i+1)*points_per_curve]),\n",
    "             np.imag(caustic[i*points_per_curve:(i+1)*points_per_curve]),color='green')\n",
    "\n",
    "plt.plot(zeta_track.real,zeta_track.imag,color='blue')\n",
    "\n",
    "plt.xlim(-6,6)\n",
    "plt.ylim(-6,6)"
   ]
  },
  {
   "cell_type": "code",
   "execution_count": null,
   "metadata": {},
   "outputs": [],
   "source": [
    "# Note the mean magnification normally needs to be defined for the simulation\n",
    "# using kappa and gamma\n",
    "#\n",
    "mean_mag = mag.mean()\n",
    "plt.plot(-2.5*np.log(mag[4000:16000]/mean_mag)/np.log(10))\n",
    "plt.ylim(1,-3.5)"
   ]
  }
 ],
 "metadata": {
  "kernelspec": {
   "display_name": "Python 3",
   "language": "python",
   "name": "python3"
  },
  "language_info": {
   "codemirror_mode": {
    "name": "ipython",
    "version": 3
   },
   "file_extension": ".py",
   "mimetype": "text/x-python",
   "name": "python",
   "nbconvert_exporter": "python",
   "pygments_lexer": "ipython3",
   "version": "3.7.3"
  }
 },
 "nbformat": 4,
 "nbformat_minor": 4
}
